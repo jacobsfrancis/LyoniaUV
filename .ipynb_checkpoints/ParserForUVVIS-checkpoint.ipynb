{
 "cells": [
  {
   "cell_type": "code",
   "execution_count": 1,
   "id": "4a045bd5-5f8b-4f9f-80fa-f781753ad535",
   "metadata": {},
   "outputs": [],
   "source": [
    "# Lyonia UV/Vis Parser and Merger\n",
    "\n",
    "import pandas as pd\n",
    "from pathlib import Path\n",
    "import matplotlib.pyplot as plt\n",
    "\n",
    "# Set your working directory to the folder with your files\n",
    "DATA_DIR = Path(\"~/Documents/ScienceProjects/2025/LyoniaUV\").expanduser()\n",
    "TXT_DIR = DATA_DIR  # assuming all .txt files are in this folder\n",
    "SAMPLE_INFO_FILE = DATA_DIR / \"UVTrans_Lyonia_13May2025_JW.csv\"  # update if name differs\n"
   ]
  },
  {
   "cell_type": "code",
   "execution_count": 29,
   "id": "d0974d16-4fac-4bfc-9276-cd20fe8f456d",
   "metadata": {},
   "outputs": [],
   "source": [
    "# --- Step 1: Parse each UV/Vis text file ---\n",
    "def parse_txt_file(file_path):\n",
    "    with open(file_path, 'r') as f:\n",
    "        lines = f.readlines()\n",
    "\n",
    "    # Find where spectral data begins\n",
    "    start_idx = next(i for i, line in enumerate(lines) if '>>>>>Begin Spectral Data<<<<<' in line) + 1\n",
    "    spectral_data = []\n",
    "\n",
    "    for line in lines[start_idx:]:\n",
    "        if line.strip() == \"\":\n",
    "            continue\n",
    "        try:\n",
    "            wavelength, value = map(float, line.strip().split())\n",
    "            spectral_data.append((wavelength, value))\n",
    "        except ValueError:\n",
    "            continue  # skip bad lines\n",
    "\n",
    "    df = pd.DataFrame(spectral_data, columns=['Wavelength', 'Value'])\n",
    "    df['Filename'] = file_path.name\n",
    "    return df\n"
   ]
  },
  {
   "cell_type": "code",
   "execution_count": 30,
   "id": "7f558abd-c3d6-4a23-a1b7-20d513950f76",
   "metadata": {},
   "outputs": [],
   "source": [
    "# --- Step 2: Load metadata spreadsheet ---\n",
    "metadata = pd.read_csv(SAMPLE_INFO_FILE)\n"
   ]
  },
  {
   "cell_type": "code",
   "execution_count": 31,
   "id": "ccfa9935-647a-411b-9af3-26a0a7cf776f",
   "metadata": {},
   "outputs": [],
   "source": [
    "# --- Step 3: Fill missing prefixes (for long-suffix files) ---\n",
    "metadata['File_prefix'] = metadata['File_prefix'].fillna(\"WindowProjectSample\")\n"
   ]
  },
  {
   "cell_type": "code",
   "execution_count": 32,
   "id": "451da17d-18f8-4499-ad5e-5c43938576db",
   "metadata": {},
   "outputs": [],
   "source": [
    "# --- Step 4: Build 'FilenameBase' column ---\n",
    "def build_filename_base(row):\n",
    "    try:\n",
    "        num = int(float(str(row['filename']).split('_')[0]))\n",
    "    except:\n",
    "        return None\n",
    "    prefix = row['File_prefix']\n",
    "    return f\"{prefix}_Transmission__{num}__\"\n",
    "\n",
    "metadata['FilenameBase'] = metadata.apply(build_filename_base, axis=1)\n",
    "\n",
    "# Create a lookup dict for exact or prefix match\n",
    "filename_lookup = {fb: md_row for fb, md_row in metadata.set_index('FilenameBase').iterrows() if fb}\n"
   ]
  },
  {
   "cell_type": "code",
   "execution_count": 33,
   "id": "5e95a585-7e9a-459d-bc9e-2673e25740f0",
   "metadata": {},
   "outputs": [],
   "source": [
    "# --- Step 5: Parse all txt files ---\n",
    "txt_files = list(TXT_DIR.glob(\"*.txt\"))\n",
    "spectra = pd.concat([parse_txt_file(f) for f in txt_files], ignore_index=True)\n"
   ]
  },
  {
   "cell_type": "code",
   "execution_count": 34,
   "id": "a3414132-8a51-4322-9efb-100eb6a7636b",
   "metadata": {},
   "outputs": [],
   "source": [
    "# --- Step 6: Match metadata ---\n",
    "def match_metadata(filename):\n",
    "    if filename in filename_lookup:\n",
    "        return filename_lookup[filename]\n",
    "    for base, row in filename_lookup.items():\n",
    "        if base and base in filename:\n",
    "            return row\n",
    "    return pd.Series([None]*len(metadata.columns), index=metadata.columns)\n",
    "\n",
    "# Apply matching\n",
    "meta_cols = metadata.columns.tolist()\n",
    "spectra_with_meta = spectra.copy()\n",
    "spectra_with_meta[meta_cols] = spectra_with_meta['Filename'].apply(match_metadata)\n",
    "\n",
    "# Drop rows that didn't match metadata\n",
    "merged = spectra_with_meta.dropna(subset=['plant', 'species'])\n"
   ]
  },
  {
   "cell_type": "code",
   "execution_count": 35,
   "id": "31882326-e9a4-47b8-8c65-8706b5244db2",
   "metadata": {},
   "outputs": [],
   "source": [
    "# --- Step 7: Save merged data ---\n",
    "merged.to_csv(DATA_DIR / \"merged_uvvis_data.csv\", index=False)\n"
   ]
  },
  {
   "cell_type": "code",
   "execution_count": 36,
   "id": "1f73a89c-2d74-4d56-835b-0e582c0370a1",
   "metadata": {},
   "outputs": [
    {
     "name": "stdout",
     "output_type": "stream",
     "text": [
      "Unmatched files:\n",
      "WindowProjectSample2_Transmission__5__00010.txt\n",
      "WindowProjectSample2_Transmission__0__00005.txt\n",
      "WindowProjectSample2_Transmission__3__00008.txt\n",
      "WindowProjectSample2_Transmission__4__00009.txt\n",
      "WindowProjectSample3_Transmission__52__00052.txt\n",
      "WindowProjectSample2_Transmission__2__00007.txt\n",
      "WindowProjectSample2_Transmission__1__00006.txt\n",
      "\n",
      "Total unmatched files: 7\n"
     ]
    }
   ],
   "source": [
    "# Identify all unmatched files (no metadata joined)\n",
    "unmatched = spectra_with_meta[spectra_with_meta['plant'].isna()]\n",
    "\n",
    "# Show just the unique filenames\n",
    "unmatched_files = unmatched['Filename'].unique()\n",
    "\n",
    "# Print them\n",
    "print(\"Unmatched files:\")\n",
    "for fname in unmatched_files:\n",
    "    print(fname)\n",
    "\n",
    "# Optional: How many\n",
    "print(f\"\\nTotal unmatched files: {len(unmatched_files)}\")"
   ]
  },
  {
   "cell_type": "code",
   "execution_count": 30,
   "id": "c1b86745-9355-4a33-b0ce-4122c91f945b",
   "metadata": {},
   "outputs": [
    {
     "name": "stdout",
     "output_type": "stream",
     "text": [
      "Metadata rows not matched to a file: 12\n"
     ]
    },
    {
     "name": "stderr",
     "output_type": "stream",
     "text": [
      "/var/folders/ys/s220jncx06j_nfptmch752w80000gn/T/ipykernel_92571/1077337297.py:2: SettingWithCopyWarning: \n",
      "A value is trying to be set on a copy of a slice from a DataFrame.\n",
      "Try using .loc[row_indexer,col_indexer] = value instead\n",
      "\n",
      "See the caveats in the documentation: https://pandas.pydata.org/pandas-docs/stable/user_guide/indexing.html#returning-a-view-versus-a-copy\n",
      "  merged['FilenameBase'] = merged['Filename'].str.extract(r'^(.*__\\d{5})')\n"
     ]
    }
   ],
   "source": [
    "# Remove .txt and any long suffix to isolate base from actual filenames\n",
    "merged['FilenameBase'] = merged['Filename'].str.extract(r'^(.*__\\d{5})')\n",
    "\n",
    "# Now compare to metadata\n",
    "matched_bases = merged['FilenameBase'].unique()\n",
    "unmatched_metadata = metadata[~metadata['FilenameBase'].isin(matched_bases)]\n",
    "\n",
    "print(f\"Metadata rows not matched to a file: {len(unmatched_metadata)}\")"
   ]
  },
  {
   "cell_type": "code",
   "execution_count": 31,
   "id": "fc8706f2-8871-4955-bc19-601a3931fe13",
   "metadata": {},
   "outputs": [
    {
     "data": {
      "text/html": [
       "<div>\n",
       "<style scoped>\n",
       "    .dataframe tbody tr th:only-of-type {\n",
       "        vertical-align: middle;\n",
       "    }\n",
       "\n",
       "    .dataframe tbody tr th {\n",
       "        vertical-align: top;\n",
       "    }\n",
       "\n",
       "    .dataframe thead th {\n",
       "        text-align: right;\n",
       "    }\n",
       "</style>\n",
       "<table border=\"1\" class=\"dataframe\">\n",
       "  <thead>\n",
       "    <tr style=\"text-align: right;\">\n",
       "      <th></th>\n",
       "      <th>File_prefix</th>\n",
       "      <th>filename</th>\n",
       "    </tr>\n",
       "  </thead>\n",
       "  <tbody>\n",
       "    <tr>\n",
       "      <th>48</th>\n",
       "      <td>WindowProjectSample</td>\n",
       "      <td>NaN</td>\n",
       "    </tr>\n",
       "    <tr>\n",
       "      <th>90</th>\n",
       "      <td>WindowProjectSample2</td>\n",
       "      <td>NaN</td>\n",
       "    </tr>\n",
       "    <tr>\n",
       "      <th>91</th>\n",
       "      <td>WindowProjectSample2</td>\n",
       "      <td>0</td>\n",
       "    </tr>\n",
       "    <tr>\n",
       "      <th>92</th>\n",
       "      <td>WindowProjectSample2</td>\n",
       "      <td>1</td>\n",
       "    </tr>\n",
       "    <tr>\n",
       "      <th>93</th>\n",
       "      <td>WindowProjectSample2</td>\n",
       "      <td>2</td>\n",
       "    </tr>\n",
       "    <tr>\n",
       "      <th>94</th>\n",
       "      <td>WindowProjectSample2</td>\n",
       "      <td>3</td>\n",
       "    </tr>\n",
       "    <tr>\n",
       "      <th>95</th>\n",
       "      <td>WindowProjectSample2</td>\n",
       "      <td>NaN</td>\n",
       "    </tr>\n",
       "    <tr>\n",
       "      <th>96</th>\n",
       "      <td>WindowProjectSample2</td>\n",
       "      <td>4</td>\n",
       "    </tr>\n",
       "    <tr>\n",
       "      <th>97</th>\n",
       "      <td>WindowProjectSample2</td>\n",
       "      <td>5</td>\n",
       "    </tr>\n",
       "    <tr>\n",
       "      <th>146</th>\n",
       "      <td>WindowProjectSample3</td>\n",
       "      <td>51 or 52</td>\n",
       "    </tr>\n",
       "    <tr>\n",
       "      <th>160</th>\n",
       "      <td>WindowProjectSample_Transmission__0__00000__09...</td>\n",
       "      <td>0</td>\n",
       "    </tr>\n",
       "    <tr>\n",
       "      <th>161</th>\n",
       "      <td>WindowProjectSample_Transmission__1__00001__04...</td>\n",
       "      <td>1</td>\n",
       "    </tr>\n",
       "  </tbody>\n",
       "</table>\n",
       "</div>"
      ],
      "text/plain": [
       "                                           File_prefix  filename\n",
       "48                                 WindowProjectSample       NaN\n",
       "90                                WindowProjectSample2       NaN\n",
       "91                                WindowProjectSample2         0\n",
       "92                                WindowProjectSample2         1\n",
       "93                                WindowProjectSample2         2\n",
       "94                                WindowProjectSample2         3\n",
       "95                                WindowProjectSample2       NaN\n",
       "96                                WindowProjectSample2         4\n",
       "97                                WindowProjectSample2         5\n",
       "146                               WindowProjectSample3  51 or 52\n",
       "160  WindowProjectSample_Transmission__0__00000__09...         0\n",
       "161  WindowProjectSample_Transmission__1__00001__04...         1"
      ]
     },
     "execution_count": 31,
     "metadata": {},
     "output_type": "execute_result"
    }
   ],
   "source": [
    "unmatched_metadata[['File_prefix', 'filename']]"
   ]
  }
 ],
 "metadata": {
  "kernelspec": {
   "display_name": "Python 3 (ipykernel)",
   "language": "python",
   "name": "python3"
  },
  "language_info": {
   "codemirror_mode": {
    "name": "ipython",
    "version": 3
   },
   "file_extension": ".py",
   "mimetype": "text/x-python",
   "name": "python",
   "nbconvert_exporter": "python",
   "pygments_lexer": "ipython3",
   "version": "3.11.8"
  }
 },
 "nbformat": 4,
 "nbformat_minor": 5
}
